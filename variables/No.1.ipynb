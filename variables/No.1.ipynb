{
 "cells": [
  {
   "cell_type": "code",
   "execution_count": 1,
   "id": "94b7d368-5e8d-4418-8b62-f40980248336",
   "metadata": {},
   "outputs": [
    {
     "name": "stdin",
     "output_type": "stream",
     "text": [
      "please enter an number 3\n"
     ]
    },
    {
     "name": "stdout",
     "output_type": "stream",
     "text": [
      "9\n"
     ]
    }
   ],
   "source": [
    "x = int(input('please enter an number')) # we wanna enter the 3\n",
    "Product = x * 3 \n",
    "print(Product) # so we should we get ? 9"
   ]
  },
  {
   "cell_type": "code",
   "execution_count": 3,
   "id": "c012841b-3ea7-45e7-bb7c-61d3ade3e225",
   "metadata": {},
   "outputs": [
    {
     "name": "stdin",
     "output_type": "stream",
     "text": [
      "please enter an number 3\n",
      "please enter the value you want to multiply by x 3\n"
     ]
    },
    {
     "name": "stdout",
     "output_type": "stream",
     "text": [
      "9\n"
     ]
    }
   ],
   "source": [
    "x = int(input('please enter an number')) # again we want to enter 3\n",
    "y = int(input('please enter the value you want to multiply by x')) # here we instead of 3 , we named a new variable , aslo i am going to input 3 \n",
    "Product = x * y\n",
    "print(Product)"
   ]
  }
 ],
 "metadata": {
  "kernelspec": {
   "display_name": "Python 3 (ipykernel)",
   "language": "python",
   "name": "python3"
  },
  "language_info": {
   "codemirror_mode": {
    "name": "ipython",
    "version": 3
   },
   "file_extension": ".py",
   "mimetype": "text/x-python",
   "name": "python",
   "nbconvert_exporter": "python",
   "pygments_lexer": "ipython3",
   "version": "3.9.7"
  }
 },
 "nbformat": 4,
 "nbformat_minor": 5
}
