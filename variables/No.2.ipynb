{
 "cells": [
  {
   "cell_type": "code",
   "execution_count": 2,
   "id": "259cb6cf-e2a2-4da2-969e-9daee646d850",
   "metadata": {},
   "outputs": [
    {
     "name": "stdout",
     "output_type": "stream",
     "text": [
      "1.75 30.0\n"
     ]
    }
   ],
   "source": [
    "beta = 1.75\n",
    "theta = 30.0\n",
    "print(beta,theta)"
   ]
  },
  {
   "cell_type": "code",
   "execution_count": 10,
   "id": "3e08e4a4-6d52-47eb-bff4-bf6abc2dc92a",
   "metadata": {},
   "outputs": [
    {
     "name": "stdout",
     "output_type": "stream",
     "text": [
      "2\n",
      "20\n",
      "44\n"
     ]
    }
   ],
   "source": [
    "# expressing subscripted variables in python\n",
    "\n",
    "x1 = 2 # we can name variable like x_1 = 2\n",
    "x2 = 20 # or x_2 = 10\n",
    "x3 = 44 # or x_3 = 44\n",
    "print(x1,x2,x3,sep='\\n')"
   ]
  }
 ],
 "metadata": {
  "kernelspec": {
   "display_name": "Python 3 (ipykernel)",
   "language": "python",
   "name": "python3"
  },
  "language_info": {
   "codemirror_mode": {
    "name": "ipython",
    "version": 3
   },
   "file_extension": ".py",
   "mimetype": "text/x-python",
   "name": "python",
   "nbconvert_exporter": "python",
   "pygments_lexer": "ipython3",
   "version": "3.9.7"
  }
 },
 "nbformat": 4,
 "nbformat_minor": 5
}
