{
 "cells": [
  {
   "cell_type": "code",
   "execution_count": null,
   "id": "f7a452a9-e8e7-4405-908c-cd561e49a4aa",
   "metadata": {},
   "outputs": [],
   "source": []
  }
 ],
 "metadata": {
  "kernelspec": {
   "display_name": "",
   "name": ""
  },
  "language_info": {
   "name": ""
  }
 },
 "nbformat": 4,
 "nbformat_minor": 5
}
