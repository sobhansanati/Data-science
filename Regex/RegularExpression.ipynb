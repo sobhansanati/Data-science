{
 "cells": [
  {
   "cell_type": "markdown",
   "id": "d8d1e340-356a-4c56-9f6f-96b006908426",
   "metadata": {},
   "source": [
    "# Regular Expression"
   ]
  },
  {
   "cell_type": "markdown",
   "id": "7ec2ebf8-558f-4491-8550-2cc0f63ba468",
   "metadata": {},
   "source": [
    "one of the important things in Datascience branches and others\n",
    "if you are profissional programer you better have an knowledge about regular expression \n",
    "so what is the regular expression\n",
    "complete meaning of the regular expression and as every expect it is (searching)\n",
    "searching diffrent type and bunch of code with command of them"
   ]
  },
  {
   "cell_type": "markdown",
   "id": "a05fcce6-ef94-4f8b-bc34-08188f0717d6",
   "metadata": {},
   "source": [
    "# Basic matching "
   ]
  },
  {
   "cell_type": "markdown",
   "id": "d2a085f0-d50c-42ae-86f2-7e1aaf569242",
   "metadata": {},
   "source": [
    "Each symbol matches a single character "
   ]
  },
  {
   "cell_type": "code",
   "execution_count": 1,
   "id": "afb8e60a-2678-4430-af4a-933cc03f181e",
   "metadata": {},
   "outputs": [],
   "source": [
    "# Text \n",
    "\n",
    "Text = ''' in this world we lived with together there are lots of rule has been stuped in any cases if we agree with it or no all political things have to side \n",
    "first side is how dalls are got played and other side is dall players , there are no beautiful surfaces without terible depth , We do not have the ability to \n",
    "understand numbers look : 0,1,2,3,4,5,6,7,8,9 we dont have shape of ten we replace it with one and zero togheter = 10 , yeah you should think about the society\n",
    "stuffs more deeper and think about it social always tryed to normlize and put you into matrix '''"
   ]
  },
  {
   "cell_type": "markdown",
   "id": "8ade93c7-60a5-484f-94a9-711bf2baea7c",
   "metadata": {},
   "source": [
    "(match) If zero or more characters at the beginning of string match the regular expression pattern /\n",
    "\n",
    "(search) Matches the first instance of an expression /\n",
    "\n",
    "(findall) = gonna find all things include digits /\n",
    "\n",
    "(fullmatch)If the whole string matches the regular expression pattern /\n",
    "\n",
    "(compile)compile method is used to compile a regular expression pattern provided as a string into a regex pattern object Later we can use this pattern object to \n",
    "search for a match inside different target strings using regex methods such as a re"
   ]
  },
  {
   "cell_type": "code",
   "execution_count": 2,
   "id": "31cf194a-7dba-41d7-ad90-cbab9fd23993",
   "metadata": {},
   "outputs": [],
   "source": [
    "# first of all we import the regular expression lib that include in python \n",
    "import re \n",
    "\n",
    "a = re.findall(r\"\\d\",Text) # this will print all digit in the text 0 till 9\n",
    "b = re.match(r\"[a-f]\",Text) \n",
    "c = re.search(r\"[^a-f]\",Text) # ^ the beginning of the line \n",
    "d = re.findall(r\"$a\",Text) # $ the end of the line\n",
    "e = re.findall(r\"a\\w{3}\",Text) #(\\w)Matches alphanumeric characters, which means a-z, A-Z, and 0-9. It also matches the underscore\n",
    "f = re.findall(r\"a\\w{3,4}@\",Text) \n",
    "g = re.sub(r\"a\\w{2,4}\",\"1234\",Text) # start with a and thr word have 2 to 4 char\n",
    "h = re.split(r\"\",Text,2)\n",
    "h = re.split(r\"#\",Text,5) #Split a string into a list using the delimiter"
   ]
  },
  {
   "cell_type": "markdown",
   "id": "590d987c-9b3c-476f-94e4-7b7f59a04e7d",
   "metadata": {},
   "source": [
    "# special charachters"
   ]
  },
  {
   "cell_type": "code",
   "execution_count": 3,
   "id": "522f20ff-4bcf-483d-8491-f288c44f69ce",
   "metadata": {},
   "outputs": [
    {
     "data": {
      "text/plain": [
       "<re.Match object; span=(0, 1), match=' '>"
      ]
     },
     "execution_count": 3,
     "metadata": {},
     "output_type": "execute_result"
    }
   ],
   "source": [
    "# ^ matche the expression to its right at the start of a string It matches every such instance before each \\n in the string.\n",
    "re.search(r\"[^a-f]\",Text)"
   ]
  },
  {
   "cell_type": "code",
   "execution_count": 4,
   "id": "2e2dd68a-c484-473e-8262-24ab1a25ddaf",
   "metadata": {},
   "outputs": [
    {
     "data": {
      "text/plain": [
       "<re.Match object; span=(13, 14), match='d'>"
      ]
     },
     "execution_count": 4,
     "metadata": {},
     "output_type": "execute_result"
    }
   ],
   "source": [
    "# $ Matches the expression to its left at the end of a string.\n",
    "re.search(r\"[a-f$]\",Text)"
   ]
  },
  {
   "cell_type": "code",
   "execution_count": 5,
   "id": "6005382c-032e-40e8-9be8-fcea84c58cdb",
   "metadata": {},
   "outputs": [
    {
     "data": {
      "text/plain": [
       "<re.Match object; span=(44, 45), match='a'>"
      ]
     },
     "execution_count": 5,
     "metadata": {},
     "output_type": "execute_result"
    }
   ],
   "source": [
    "# . Matches any character except lineterminators like \\n.\n",
    "re.search(r\"[.a-b]\",Text)"
   ]
  },
  {
   "cell_type": "code",
   "execution_count": 6,
   "id": "be1ae1a5-5513-47e0-87f4-a6c92d40a503",
   "metadata": {},
   "outputs": [
    {
     "data": {
      "text/plain": [
       "<re.Match object; span=(425, 427), match='10'>"
      ]
     },
     "execution_count": 6,
     "metadata": {},
     "output_type": "execute_result"
    }
   ],
   "source": [
    "# \\ Escapes special characters or denotes character classes\n",
    "re.search(r\"\\d{2}\",Text) # d = only digits have 2 char"
   ]
  },
  {
   "cell_type": "code",
   "execution_count": 7,
   "id": "99b3ab67-8173-460e-ac03-f381b1061287",
   "metadata": {},
   "outputs": [
    {
     "data": {
      "text/plain": [
       "<re.Match object; span=(44, 45), match='a'>"
      ]
     },
     "execution_count": 7,
     "metadata": {},
     "output_type": "execute_result"
    }
   ],
   "source": [
    "# | Matches expression A or B. If A is matched first, B is left untried.\n",
    "re.search(r\"a|b\",Text)"
   ]
  },
  {
   "cell_type": "code",
   "execution_count": 8,
   "id": "c27e3dab-5164-41f7-b8a7-cc7ea269ff71",
   "metadata": {},
   "outputs": [
    {
     "data": {
      "text/plain": [
       "<re.Match object; span=(250, 252), match='ac'>"
      ]
     },
     "execution_count": 8,
     "metadata": {},
     "output_type": "execute_result"
    }
   ],
   "source": [
    "# + Greedily matches the expression to its left 1 or more times.\n",
    "re.search(r\"a+c\",Text)"
   ]
  },
  {
   "cell_type": "code",
   "execution_count": 9,
   "id": "0fe9a098-5f33-4e19-84c4-a95ecba7d7bc",
   "metadata": {},
   "outputs": [
    {
     "data": {
      "text/plain": [
       "<re.Match object; span=(44, 47), match='are'>"
      ]
     },
     "execution_count": 9,
     "metadata": {},
     "output_type": "execute_result"
    }
   ],
   "source": [
    "# * Greedily matches the expression to its left 0 or more times.\n",
    "re.search(r\"are*\",Text)"
   ]
  },
  {
   "cell_type": "code",
   "execution_count": 10,
   "id": "3761e32d-d2bb-4d7d-aa7a-45dac1ba9f70",
   "metadata": {},
   "outputs": [
    {
     "data": {
      "text/plain": [
       "['ther', 'there', 'ther', 'there']"
      ]
     },
     "execution_count": 10,
     "metadata": {},
     "output_type": "execute_result"
    }
   ],
   "source": [
    "# ? Greedily matches the expression to its left 0 or 1 times.\n",
    "re.findall(r\"there?\",Text)"
   ]
  },
  {
   "cell_type": "markdown",
   "id": "bab42f10-65d3-4afe-a39a-7e1c6fe5014f",
   "metadata": {},
   "source": [
    "# Sets "
   ]
  },
  {
   "cell_type": "code",
   "execution_count": 11,
   "id": "536e8d78-93f5-47bc-b473-f2118976d4ad",
   "metadata": {},
   "outputs": [
    {
     "data": {
      "text/plain": [
       "<re.Match object; span=(1, 2), match='i'>"
      ]
     },
     "execution_count": 11,
     "metadata": {},
     "output_type": "execute_result"
    }
   ],
   "source": [
    "# [a-z]  Matches any alphabet from a to z.\n",
    "re.search(r\"[a-z]\",Text)"
   ]
  },
  {
   "cell_type": "markdown",
   "id": "bd654910-de32-4dda-8bbe-7623ee101324",
   "metadata": {},
   "source": [
    "[  ] Contains a set of characters to match."
   ]
  },
  {
   "cell_type": "code",
   "execution_count": 12,
   "id": "c101e7c0-552e-4d36-b8f7-5769ddedd2dd",
   "metadata": {},
   "outputs": [
    {
     "data": {
      "text/plain": [
       "<re.Match object; span=(44, 45), match='a'>"
      ]
     },
     "execution_count": 12,
     "metadata": {},
     "output_type": "execute_result"
    }
   ],
   "source": [
    "# Matches a or -, because - is not beingused to indicate a series of characters.\n",
    "re.search(r\"[a-]\",Text)"
   ]
  },
  {
   "cell_type": "code",
   "execution_count": 13,
   "id": "42d5c687-e6de-431f-b9a6-1b42f6c3d4ea",
   "metadata": {},
   "outputs": [
    {
     "data": {
      "text/plain": [
       "<re.Match object; span=(1, 2), match='i'>"
      ]
     },
     "execution_count": 13,
     "metadata": {},
     "output_type": "execute_result"
    }
   ],
   "source": [
    "# Matches characters from a to z and also from 0 to 9.\n",
    "re.search(r\"[a-z0-9]\",Text)"
   ]
  },
  {
   "cell_type": "code",
   "execution_count": 14,
   "id": "43c63488-3613-44b4-b8fa-41211bd33908",
   "metadata": {},
   "outputs": [
    {
     "data": {
      "text/plain": [
       "<re.Match object; span=(0, 1), match=' '>"
      ]
     },
     "execution_count": 14,
     "metadata": {},
     "output_type": "execute_result"
    }
   ],
   "source": [
    "# Adding ^ excludes any character in the set. Here, it matches characters that are not a, b, or 5.\n",
    "re.search(r\"[^ab2]\",Text)"
   ]
  },
  {
   "cell_type": "code",
   "execution_count": 15,
   "id": "c2bd0328-cf3b-4870-b792-fe648a0887a0",
   "metadata": {},
   "outputs": [
    {
     "data": {
      "text/plain": [
       "<re.Match object; span=(44, 45), match='a'>"
      ]
     },
     "execution_count": 15,
     "metadata": {},
     "output_type": "execute_result"
    }
   ],
   "source": [
    "#(?:A) Matches the expression as represented by A,\n",
    "re.search(r\"[?:a]\",Text)"
   ]
  },
  {
   "cell_type": "code",
   "execution_count": 16,
   "id": "be861e96-1318-4efa-9297-eeb22313ea31",
   "metadata": {},
   "outputs": [
    {
     "data": {
      "text/plain": [
       "<re.Match object; span=(0, 0), match=''>"
      ]
     },
     "execution_count": 16,
     "metadata": {},
     "output_type": "execute_result"
    }
   ],
   "source": [
    "# (?) Inside parentheses like this, ? acts as an extension notation\n",
    "re.search(r\"(b?)\",Text)"
   ]
  },
  {
   "cell_type": "code",
   "execution_count": 17,
   "id": "de216de5-6abb-45cb-a7d0-5277c671d0eb",
   "metadata": {},
   "outputs": [
    {
     "data": {
      "text/plain": [
       "<re.Match object; span=(0, 0), match=''>"
      ]
     },
     "execution_count": 17,
     "metadata": {},
     "output_type": "execute_result"
    }
   ],
   "source": [
    "# a, i, L, m, s, u, and x are flags\n",
    "re.search(r\"(?i)\",Text)"
   ]
  },
  {
   "cell_type": "markdown",
   "id": "363ce411-9866-44f6-b61f-27fb061d9b02",
   "metadata": {},
   "source": [
    "flags:\n",
    "a — Matches ASCII only\n",
    "\n",
    "i — Ignore case\n",
    "\n",
    "L — Locale dependent\n",
    "\n",
    "m — Multi-line\n",
    "\n",
    "s — Matches all\n",
    "\n",
    "u — Matches unicode\n",
    "\n",
    "x — Verbose"
   ]
  },
  {
   "cell_type": "markdown",
   "id": "a39b6ffd-80cd-40ca-a174-8e515ce0b749",
   "metadata": {},
   "source": [
    "# CHARACTER CLASSES"
   ]
  },
  {
   "cell_type": "markdown",
   "id": "990e88ee-01e2-4893-8a60-ca7c0bc0e0c9",
   "metadata": {},
   "source": [
    "\\w = Matches alphanumeric characters, which means a-z, A-Z, and 0-9. It also matches the underscore, _.\n",
    "\n",
    "\\d = Matches digits, which means 0-9.\n",
    "\n",
    "\\D = Matches any non-digits.\n",
    "\n",
    "\\s = Matches whitespace characters, which include the \\t, \\n, \\r, and space characters.\n",
    "\n",
    "\\S = Matches non-whitespace characters.\n",
    "\n",
    "\\b = Matches the boundary (or empty string) at the start and end of a word, that is, between \\w and \\W.\n",
    "\n",
    "\\B = Matches where \\b does not, that is, the boundary of \\w characters.\n",
    "\n",
    "\\A = Matches the expression to its right at theabsolute start of a string whether in singleor multi-line mode.\n",
    "\n",
    "\\Z = Matches the expression to its left at theabsolute end of a string whether in single or multi-line mode."
   ]
  }
 ],
 "metadata": {
  "kernelspec": {
   "display_name": "Python 3 (ipykernel)",
   "language": "python",
   "name": "python3"
  },
  "language_info": {
   "codemirror_mode": {
    "name": "ipython",
    "version": 3
   },
   "file_extension": ".py",
   "mimetype": "text/x-python",
   "name": "python",
   "nbconvert_exporter": "python",
   "pygments_lexer": "ipython3",
   "version": "3.9.7"
  }
 },
 "nbformat": 4,
 "nbformat_minor": 5
}
