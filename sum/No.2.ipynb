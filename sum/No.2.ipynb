{
 "cells": [
  {
   "cell_type": "code",
   "execution_count": 3,
   "id": "2cc82ac6",
   "metadata": {},
   "outputs": [
    {
     "name": "stdout",
     "output_type": "stream",
     "text": [
      "30\n"
     ]
    }
   ],
   "source": [
    "from sympy import *\n",
    "i,n = symbols('i n') # we set the i and n as symbols \n",
    "# now we want to itrate each element i from 1 through n\n",
    "# then multiply and sum it\n",
    "summation = Sum(2*i,(i,1,n))\n",
    "# now here we want to specify n as 5\n",
    "sp_5 = summation.subs(n,5)\n",
    "print(sp_5.doit())\n",
    "# note that summations in sympy are lazy meaning they do not atumatically calculate or get simplified so we use the doit function to excute the expression"
   ]
  }
 ],
 "metadata": {
  "kernelspec": {
   "display_name": "Python 3 (ipykernel)",
   "language": "python",
   "name": "python3"
  },
  "language_info": {
   "codemirror_mode": {
    "name": "ipython",
    "version": 3
   },
   "file_extension": ".py",
   "mimetype": "text/x-python",
   "name": "python",
   "nbconvert_exporter": "python",
   "pygments_lexer": "ipython3",
   "version": "3.9.7"
  }
 },
 "nbformat": 4,
 "nbformat_minor": 5
}
