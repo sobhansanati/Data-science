{
  "cells": [
    {
      "cell_type": "markdown",
      "metadata": {
        "id": "view-in-github",
        "colab_type": "text"
      },
      "source": [
        "<a href=\"https://colab.research.google.com/github/sobhansanati/Data-science/blob/main/Welcome_To_Colaboratory.ipynb\" target=\"_parent\"><img src=\"https://colab.research.google.com/assets/colab-badge.svg\" alt=\"Open In Colab\"/></a>"
      ]
    },
    {
      "cell_type": "code",
      "source": [
        "from keras.layers import Dense, Activation, Dropout\n",
        "from keras.layers import LSTM\n",
        "from keras.layers import Bidirectional\n",
        "from keras.models import Sequential\n",
        "from sklearn.metrics import mean_squared_error\n",
        "import time\n",
        "import numpy as np\n",
        "import math\n",
        "import matplotlib.pyplot as plt\n",
        "import pandas as pd"
      ],
      "metadata": {
        "id": "aVclvZXfwotX"
      },
      "execution_count": 2,
      "outputs": []
    },
    {
      "cell_type": "code",
      "source": [
        "def dataprepration(filename, sequence_length):\n",
        "    \"\"\"\n",
        "    Loads the bitcoin data\n",
        "\n",
        "    Arguments:\n",
        "    filename -- A string that represents where the .csv file can be located\n",
        "    sequence_length -- An integer of how many days should be looked at in a row\n",
        "\n",
        "    Returns:\n",
        "    X_train -- A tensor of shape (2400, 49, 35) that will be inputed into the model to train it\n",
        "    Y_train -- A tensor of shape (2400,) that will be inputed into the model to train it\n",
        "    X_test -- A tensor of shape (267, 49, 35) that will be used to test the model's proficiency\n",
        "    Y_test -- A tensor of shape (267,) that will be used to check the model's predictions\n",
        "    Y_daybefore -- A tensor of shape (267,) that represents the price of bitcoin the day before each Y_test value\n",
        "    unnormalized_bases -- A tensor of shape (267,) that will be used to get the true prices from the normalized ones\n",
        "    window_size -- An integer that represents how many days of X values the model can look at at once\n",
        "    \"\"\"\n",
        "    #Read the data file\n",
        "    raw_data = pd.read_csv(filename).values\n",
        "\n",
        "    #Change all zeros to the number before the zero occurs\n",
        "    for x in range(0, raw_data.shape[0]):\n",
        "        for y in range(0, raw_data.shape[1]):\n",
        "            if(raw_data[x][y] == 0):\n",
        "                raw_data[x][y] = raw_data[x-1][y]\n",
        "\n",
        "    #Convert the file to a list\n",
        "    data = raw_data.tolist()\n",
        "\n",
        "    #Convert the data to a 3D array (a x b x c)\n",
        "    #Where a is the number of days, b is the window size, and c is the number of features in the data file\n",
        "    result = []\n",
        "    for index in range(len(data) - sequence_length):\n",
        "        result.append(data[index: index + sequence_length])\n",
        "\n",
        "    #Normalizing data by going through each window\n",
        "    #Every value in the window is divided by the first value in the window, and then 1 is subtracted\n",
        "    d0 = np.array(result)\n",
        "    dr = np.zeros_like(d0)\n",
        "    dr[:,1:,:] = d0[:,1:,:] / d0[:,0:1,:] - 1\n",
        "\n",
        "    #Keeping the unnormalized prices for Y_test\n",
        "    #Useful when graphing bitcoin price over time later\n",
        "    start = 2400\n",
        "    end = int(dr.shape[0] + 1)\n",
        "    unnormalized_bases = d0[start:end,0:1,8]\n",
        "\n",
        "    #Splitting data set into training (First 90% of data points) and testing data (last 10% of data points)\n",
        "    split_line = round(0.9 * dr.shape[0])\n",
        "    training_data = dr[:int(split_line), :]\n",
        "\n",
        "    #Shuffle the data\n",
        "    np.random.shuffle(training_data)\n",
        "\n",
        "    #Training Data\n",
        "    x_train = training_data[:, :-1]\n",
        "    y_train = training_data[:, -1]\n",
        "    y_train = y_train[:, 20]\n",
        "\n",
        "    #Testing data\n",
        "    x_test = dr[int(split_line):, :-1]\n",
        "    y_test = dr[int(split_line):, 49, :]\n",
        "    y_test = y_test[:, 20]\n",
        "\n",
        "    #Get the day before Y_test's price\n",
        "    Y_daybefore = dr[int(split_line):, 48, :]\n",
        "    Y_daybefore = Y_daybefore[:, 8]\n",
        "\n",
        "    #Get window size and sequence length\n",
        "    sequence_length = sequence_length\n",
        "    window_size = sequence_length - 1 #because the last value is reserved as the y value\n",
        "\n",
        "    return x_train, y_train, x_test, y_test, Y_daybefore, unnormalized_bases, window_size"
      ],
      "metadata": {
        "id": "pZ-_3-h3w4Es"
      },
      "execution_count": 48,
      "outputs": []
    },
    {
      "cell_type": "code",
      "source": [
        "def initialize_model(window_size, dropout_value, activation_function, loss_function, optimizer):\n",
        "    \"\"\"\n",
        "    Initializes and creates the model to be used\n",
        "\n",
        "    Arguments:\n",
        "    window_size -- An integer that represents how many days of X_values the model can look at at once\n",
        "    dropout_value -- A decimal representing how much dropout should be incorporated at each level, in this case 0.2\n",
        "    activation_function -- A string to define the activation_function, in this case it is linear\n",
        "    loss_function -- A string to define the loss function to be used, in the case it is mean squared error\n",
        "    optimizer -- A string to define the optimizer to be used, in the case it is adam\n",
        "\n",
        "    Returns:\n",
        "    model -- A 3 layer RNN with 100*dropout_value dropout in each layer that uses activation_function as its activation\n",
        "             function, loss_function as its loss function, and optimizer as its optimizer\n",
        "    \"\"\"\n",
        "    #Create a Sequential model using Keras\n",
        "    model = Sequential()\n",
        "\n",
        "    #First recurrent layer with dropout\n",
        "    model.add(Bidirectional(LSTM(window_size, return_sequences=True), input_shape=(window_size, x_train.shape[-1]),))\n",
        "    model.add(Dropout(dropout_value))\n",
        "\n",
        "    #Second recurrent layer with dropout\n",
        "    model.add(Bidirectional(LSTM((window_size*2), return_sequences=True)))\n",
        "    model.add(Dropout(dropout_value))\n",
        "\n",
        "    #Third recurrent layer\n",
        "    model.add(Bidirectional(LSTM(window_size, return_sequences=False)))\n",
        "\n",
        "    #Output layer (returns the predicted value)\n",
        "    model.add(Dense(units=1))\n",
        "\n",
        "    #Set activation function\n",
        "    model.add(Activation(activation_function))\n",
        "\n",
        "    #Set loss function and optimizer\n",
        "    model.compile(loss=loss_function, optimizer=optimizer)\n",
        "\n",
        "    return model"
      ],
      "metadata": {
        "id": "0BoCEIW80ZpS"
      },
      "execution_count": 4,
      "outputs": []
    },
    {
      "cell_type": "code",
      "source": [
        "def fit_model(model, x_train, y_train, batch_num, num_epoch, val_split):\n",
        "    \"\"\"\n",
        "    Fits the model to the training data\n",
        "\n",
        "    Arguments:\n",
        "    model -- The previously initalized 3 layer Recurrent Neural Network\n",
        "    X_train -- A tensor of shape (2400, 49, 35) that represents the x values of the training data\n",
        "    Y_train -- A tensor of shape (2400,) that represents the y values of the training data\n",
        "    batch_num -- An integer representing the batch size to be used, in this case 1024\n",
        "    num_epoch -- An integer defining the number of epochs to be run, in this case 100\n",
        "    val_split -- A decimal representing the proportion of training data to be used as validation data\n",
        "\n",
        "    Returns:\n",
        "    model -- The 3 layer Recurrent Neural Network that has been fitted to the training data\n",
        "    training_time -- An integer representing the amount of time (in seconds) that the model was training\n",
        "    \"\"\"\n",
        "    #Record the time the model starts training\n",
        "    start = time.time()\n",
        "\n",
        "    #Train the model on X_train and Y_train\n",
        "    model.fit(x_train, y_train, batch_size= 64, nb_epoch=20, validation_split= val_split)\n",
        "\n",
        "    #Get the time it took to train the model (in seconds)\n",
        "    training_time = int(math.floor(time.time() - start))\n",
        "    return model, training_time"
      ],
      "metadata": {
        "id": "lXjyhFva1EWf"
      },
      "execution_count": 5,
      "outputs": []
    },
    {
      "cell_type": "code",
      "source": [
        "def test_model(model, x_test, y_test, unnormalized_bases):\n",
        "    \"\"\"\n",
        "    Test the model on the testing data\n",
        "\n",
        "    Arguments:\n",
        "    model -- The previously fitted 3 layer Recurrent Neural Network\n",
        "    X_test -- A tensor of shape (267, 49, 35) that represents the x values of the testing data\n",
        "    Y_test -- A tensor of shape (267,) that represents the y values of the testing data\n",
        "    unnormalized_bases -- A tensor of shape (267,) that can be used to get unnormalized data points\n",
        "\n",
        "    Returns:\n",
        "    y_predict -- A tensor of shape (267,) that represnts the normalized values that the model predicts based on X_test\n",
        "    real_y_test -- A tensor of shape (267,) that represents the actual prices of bitcoin throughout the testing period\n",
        "    real_y_predict -- A tensor of shape (267,) that represents the model's predicted prices of bitcoin\n",
        "    fig -- A branch of the graph of the real predicted prices of bitcoin versus the real prices of bitcoin\n",
        "    \"\"\"\n",
        "    #Test the model on X_Test\n",
        "    y_predict = model.predict(x_test)\n",
        "\n",
        "    #Create empty 2D arrays to store unnormalized values\n",
        "    real_y_test = np.zeros_like(y_test)\n",
        "    real_y_predict = np.zeros_like(y_predict)\n",
        "\n",
        "    #Fill the 2D arrays with the real value and the predicted value by reversing the normalization process\n",
        "    for i in range(Y_test.shape[0]):\n",
        "        y = Y_test[i]\n",
        "        predict = y_predict[i]\n",
        "        real_y_test[i] = (y+1)*unnormalized_bases[i]\n",
        "        real_y_predict[i] = (predict+1)*unnormalized_bases[i]\n",
        "\n",
        "    #Plot of the predicted prices versus the real prices\n",
        "    fig = plt.figure(figsize=(10,5))\n",
        "    ax = fig.add_subplot(111)\n",
        "    ax.set_title(\"Bitcoin Price Over Time\")\n",
        "    plt.plot(real_y_predict, color = 'green', label = 'Predicted Price')\n",
        "    plt.plot(real_y_test, color = 'red', label = 'Real Price')\n",
        "    ax.set_ylabel(\"Price (USD)\")\n",
        "    ax.set_xlabel(\"Time (Days)\")\n",
        "    ax.legend()\n",
        "\n",
        "    return y_predict, real_y_test, real_y_predict, fig"
      ],
      "metadata": {
        "id": "kLBnjcF01XWm"
      },
      "execution_count": 6,
      "outputs": []
    },
    {
      "cell_type": "code",
      "source": [
        "def price_change(Y_daybefore, y_test, y_predict):\n",
        "    \"\"\"\n",
        "    Calculate the percent change between each value and the day before\n",
        "\n",
        "    Arguments:\n",
        "    Y_daybefore -- A tensor of shape (267,) that represents the prices of each day before each price in Y_test\n",
        "    Y_test -- A tensor of shape (267,) that represents the normalized y values of the testing data\n",
        "    y_predict -- A tensor of shape (267,) that represents the normalized y values of the model's predictions\n",
        "\n",
        "    Returns:\n",
        "    Y_daybefore -- A tensor of shape (267, 1) that represents the prices of each day before each price in Y_test\n",
        "    Y_test -- A tensor of shape (267, 1) that represents the normalized y values of the testing data\n",
        "    delta_predict -- A tensor of shape (267, 1) that represents the difference between predicted and day before values\n",
        "    delta_real -- A tensor of shape (267, 1) that represents the difference between real and day before values\n",
        "    fig -- A plot representing percent change in bitcoin price per day,\n",
        "    \"\"\"\n",
        "    #Reshaping Y_daybefore and Y_test\n",
        "    Y_daybefore = np.reshape(Y_daybefore, (-1, 1))\n",
        "    Y_test = np.reshape(Y_test, (-1, 1))\n",
        "\n",
        "    #The difference between each predicted value and the value from the day before\n",
        "    delta_predict = (y_predict - Y_daybefore) / (1+Y_daybefore)\n",
        "\n",
        "    #The difference between each true value and the value from the day before\n",
        "    delta_real = (Y_test - Y_daybefore) / (1+Y_daybefore)\n",
        "\n",
        "    #Plotting the predicted percent change versus the real percent change\n",
        "    fig = plt.figure(figsize=(10, 6))\n",
        "    ax = fig.add_subplot(111)\n",
        "    ax.set_title(\"Percent Change in Bitcoin Price Per Day\")\n",
        "    plt.plot(delta_predict, color='green', label = 'Predicted Percent Change')\n",
        "    plt.plot(delta_real, color='red', label = 'Real Percent Change')\n",
        "    plt.ylabel(\"Percent Change\")\n",
        "    plt.xlabel(\"Time (Days)\")\n",
        "    ax.legend()\n",
        "    plt.show()\n",
        "\n",
        "    return Y_daybefore, y_test, delta_predict, delta_real, fig"
      ],
      "metadata": {
        "id": "guR6UnuG1h8b"
      },
      "execution_count": 7,
      "outputs": []
    },
    {
      "cell_type": "code",
      "source": [
        "\n",
        "\n",
        "def binary_price(delta_predict, delta_real):\n",
        "    \"\"\"\n",
        "    Converts percent change to a binary 1 or 0, where 1 is an increase and 0 is a decrease/no change\n",
        "\n",
        "    Arguments:\n",
        "    delta_predict -- A tensor of shape (267, 1) that represents the predicted percent change in price\n",
        "    delta_real -- A tensor of shape (267, 1) that represents the real percent change in price\n",
        "\n",
        "    Returns:\n",
        "    delta_predict_1_0 -- A tensor of shape (267, 1) that represents the binary version of delta_predict\n",
        "    delta_real_1_0 -- A tensor of shape (267, 1) that represents the binary version of delta_real\n",
        "    \"\"\"\n",
        "    #Empty arrays where a 1 represents an increase in price and a 0 represents a decrease in price\n",
        "    delta_predict_1_0 = np.empty(delta_predict.shape)\n",
        "    delta_real_1_0 = np.empty(delta_real.shape)\n",
        "\n",
        "    #If the change in price is greater than zero, store it as a 1\n",
        "    #If the change in price is less than zero, store it as a 0\n",
        "    for i in range(delta_predict.shape[0]):\n",
        "        if delta_predict[i][0] > 0:\n",
        "            delta_predict_1_0[i][0] = 1\n",
        "        else:\n",
        "            delta_predict_1_0[i][0] = 0\n",
        "    for i in range(delta_real.shape[0]):\n",
        "        if delta_real[i][0] > 0:\n",
        "            delta_real_1_0[i][0] = 1\n",
        "        else:\n",
        "            delta_real_1_0[i][0] = 0\n",
        "\n",
        "    return delta_predict_1_0, delta_real_1_0\n",
        "\n"
      ],
      "metadata": {
        "id": "j9yTkvwY1038"
      },
      "execution_count": 8,
      "outputs": []
    },
    {
      "cell_type": "code",
      "source": [
        "def find_positives_negatives(delta_predict_1_0, delta_real_1_0):\n",
        "    \"\"\"\n",
        "    Finding the number of false positives, false negatives, true positives, true negatives\n",
        "\n",
        "    Arguments:\n",
        "    delta_predict_1_0 -- A tensor of shape (267, 1) that represents the binary version of delta_predict\n",
        "    delta_real_1_0 -- A tensor of shape (267, 1) that represents the binary version of delta_real\n",
        "\n",
        "    Returns:\n",
        "    true_pos -- An integer that represents the number of true positives achieved by the model\n",
        "    false_pos -- An integer that represents the number of false positives achieved by the model\n",
        "    true_neg -- An integer that represents the number of true negatives achieved by the model\n",
        "    false_neg -- An integer that represents the number of false negatives achieved by the model\n",
        "    \"\"\"\n",
        "    #Finding the number of false positive/negatives and true positives/negatives\n",
        "    true_pos = 0\n",
        "    false_pos = 0\n",
        "    true_neg = 0\n",
        "    false_neg = 0\n",
        "    for i in range(delta_real_1_0.shape[0]):\n",
        "        real = delta_real_1_0[i][0]\n",
        "        predicted = delta_predict_1_0[i][0]\n",
        "        if real == 1:\n",
        "            if predicted == 1:\n",
        "                true_pos += 1\n",
        "            else:\n",
        "                false_neg += 1\n",
        "        elif real == 0:\n",
        "            if predicted == 0:\n",
        "                true_neg += 1\n",
        "            else:\n",
        "                false_pos += 1\n",
        "    return true_pos, false_pos, true_neg, false_neg"
      ],
      "metadata": {
        "id": "GPPb7q_N176t"
      },
      "execution_count": 9,
      "outputs": []
    },
    {
      "cell_type": "code",
      "source": [
        "def calculate_statistics(true_pos, false_pos, true_neg, false_neg, y_predict, y_test):\n",
        "    \"\"\"\n",
        "    Calculate various statistics to assess performance\n",
        "\n",
        "    Arguments:\n",
        "    true_pos -- An integer that represents the number of true positives achieved by the model\n",
        "    false_pos -- An integer that represents the number of false positives achieved by the model\n",
        "    true_neg -- An integer that represents the number of true negatives achieved by the model\n",
        "    false_neg -- An integer that represents the number of false negatives achieved by the model\n",
        "    Y_test -- A tensor of shape (267, 1) that represents the normalized y values of the testing data\n",
        "    y_predict -- A tensor of shape (267, 1) that represents the normalized y values of the model's predictions\n",
        "\n",
        "    Returns:\n",
        "    precision -- How often the model gets a true positive compared to how often it returns a positive\n",
        "    recall -- How often the model gets a true positive compared to how often is hould have gotten a positive\n",
        "    F1 -- The weighted average of recall and precision\n",
        "    Mean Squared Error -- The average of the squares of the differences between predicted and real values\n",
        "    \"\"\"\n",
        "    precision = float(true_pos) / (true_pos + false_pos)\n",
        "    recall = float(true_pos) / (true_pos + false_neg)\n",
        "    F1 = float(2 * precision * recall) / (precision + recall)\n",
        "    #Get Mean Squared Error\n",
        "    MSE = mean_squared_error(y_predict.flatten(), Y_test.flatten())\n",
        "\n",
        "    return precision, recall, F1, MSE"
      ],
      "metadata": {
        "id": "iRPv48DL1_zs"
      },
      "execution_count": 10,
      "outputs": []
    },
    {
      "cell_type": "code",
      "source": [
        "x_train, y_train, x_test, y_test, Y_daybefore, unnormalized_bases, window_size = dataprepration(\"BTC-USD(main).csv\", 50)\n",
        "print (x_train.shape)\n",
        "print (y_train.shape)\n",
        "print (x_test.shape)\n",
        "print (y_test.shape)\n",
        "print (Y_daybefore.shape)\n",
        "print (unnormalized_bases.shape)\n",
        "print (window_size)"
      ],
      "metadata": {
        "id": "qTVu7uNr2G5a",
        "outputId": "4faa1d6c-15c7-487f-948a-8a4760b5a1d2",
        "colab": {
          "base_uri": "https://localhost:8080/",
          "height": 367
        }
      },
      "execution_count": 49,
      "outputs": [
        {
          "output_type": "error",
          "ename": "IndexError",
          "evalue": "ignored",
          "traceback": [
            "\u001b[0;31m---------------------------------------------------------------------------\u001b[0m",
            "\u001b[0;31mIndexError\u001b[0m                                Traceback (most recent call last)",
            "\u001b[0;32m<ipython-input-49-e3672e95196a>\u001b[0m in \u001b[0;36m<cell line: 1>\u001b[0;34m()\u001b[0m\n\u001b[0;32m----> 1\u001b[0;31m \u001b[0mx_train\u001b[0m\u001b[0;34m,\u001b[0m \u001b[0my_train\u001b[0m\u001b[0;34m,\u001b[0m \u001b[0mx_test\u001b[0m\u001b[0;34m,\u001b[0m \u001b[0my_test\u001b[0m\u001b[0;34m,\u001b[0m \u001b[0mY_daybefore\u001b[0m\u001b[0;34m,\u001b[0m \u001b[0munnormalized_bases\u001b[0m\u001b[0;34m,\u001b[0m \u001b[0mwindow_size\u001b[0m \u001b[0;34m=\u001b[0m \u001b[0mdataprepration\u001b[0m\u001b[0;34m(\u001b[0m\u001b[0;34m\"BTC-USD(main).csv\"\u001b[0m\u001b[0;34m,\u001b[0m \u001b[0;36m50\u001b[0m\u001b[0;34m)\u001b[0m\u001b[0;34m\u001b[0m\u001b[0;34m\u001b[0m\u001b[0m\n\u001b[0m\u001b[1;32m      2\u001b[0m \u001b[0mprint\u001b[0m \u001b[0;34m(\u001b[0m\u001b[0mx_train\u001b[0m\u001b[0;34m.\u001b[0m\u001b[0mshape\u001b[0m\u001b[0;34m)\u001b[0m\u001b[0;34m\u001b[0m\u001b[0;34m\u001b[0m\u001b[0m\n\u001b[1;32m      3\u001b[0m \u001b[0mprint\u001b[0m \u001b[0;34m(\u001b[0m\u001b[0my_train\u001b[0m\u001b[0;34m.\u001b[0m\u001b[0mshape\u001b[0m\u001b[0;34m)\u001b[0m\u001b[0;34m\u001b[0m\u001b[0;34m\u001b[0m\u001b[0m\n\u001b[1;32m      4\u001b[0m \u001b[0mprint\u001b[0m \u001b[0;34m(\u001b[0m\u001b[0mx_test\u001b[0m\u001b[0;34m.\u001b[0m\u001b[0mshape\u001b[0m\u001b[0;34m)\u001b[0m\u001b[0;34m\u001b[0m\u001b[0;34m\u001b[0m\u001b[0m\n\u001b[1;32m      5\u001b[0m \u001b[0mprint\u001b[0m \u001b[0;34m(\u001b[0m\u001b[0my_test\u001b[0m\u001b[0;34m.\u001b[0m\u001b[0mshape\u001b[0m\u001b[0;34m)\u001b[0m\u001b[0;34m\u001b[0m\u001b[0;34m\u001b[0m\u001b[0m\n",
            "\u001b[0;32m<ipython-input-48-2a42e8ae5bd5>\u001b[0m in \u001b[0;36mdataprepration\u001b[0;34m(filename, sequence_length)\u001b[0m\n\u001b[1;32m     44\u001b[0m     \u001b[0mstart\u001b[0m \u001b[0;34m=\u001b[0m \u001b[0;36m2400\u001b[0m\u001b[0;34m\u001b[0m\u001b[0;34m\u001b[0m\u001b[0m\n\u001b[1;32m     45\u001b[0m     \u001b[0mend\u001b[0m \u001b[0;34m=\u001b[0m \u001b[0mint\u001b[0m\u001b[0;34m(\u001b[0m\u001b[0mdr\u001b[0m\u001b[0;34m.\u001b[0m\u001b[0mshape\u001b[0m\u001b[0;34m[\u001b[0m\u001b[0;36m0\u001b[0m\u001b[0;34m]\u001b[0m \u001b[0;34m+\u001b[0m \u001b[0;36m1\u001b[0m\u001b[0;34m)\u001b[0m\u001b[0;34m\u001b[0m\u001b[0;34m\u001b[0m\u001b[0m\n\u001b[0;32m---> 46\u001b[0;31m     \u001b[0munnormalized_bases\u001b[0m \u001b[0;34m=\u001b[0m \u001b[0md0\u001b[0m\u001b[0;34m[\u001b[0m\u001b[0mstart\u001b[0m\u001b[0;34m:\u001b[0m\u001b[0mend\u001b[0m\u001b[0;34m,\u001b[0m\u001b[0;36m0\u001b[0m\u001b[0;34m:\u001b[0m\u001b[0;36m1\u001b[0m\u001b[0;34m,\u001b[0m\u001b[0;36m8\u001b[0m\u001b[0;34m]\u001b[0m\u001b[0;34m\u001b[0m\u001b[0;34m\u001b[0m\u001b[0m\n\u001b[0m\u001b[1;32m     47\u001b[0m \u001b[0;34m\u001b[0m\u001b[0m\n\u001b[1;32m     48\u001b[0m     \u001b[0;31m#Splitting data set into training (First 90% of data points) and testing data (last 10% of data points)\u001b[0m\u001b[0;34m\u001b[0m\u001b[0;34m\u001b[0m\u001b[0m\n",
            "\u001b[0;31mIndexError\u001b[0m: index 8 is out of bounds for axis 2 with size 7"
          ]
        }
      ]
    },
    {
      "cell_type": "code",
      "source": [
        "model = initialize_model(window_size, 0.2, 'linear', 'mse', 'adam')\n",
        "print model.summary()"
      ],
      "metadata": {
        "id": "xYun8Msk2Umf"
      },
      "execution_count": null,
      "outputs": []
    },
    {
      "cell_type": "code",
      "source": [
        "model, training_time = fit_model(model, x_train, y_train, 1024, 100, .05)\n",
        "\n",
        "#Print the training time\n",
        "print \"Training time\", training_time, \"seconds\""
      ],
      "metadata": {
        "id": "SZTrp2AA2XDe"
      },
      "execution_count": null,
      "outputs": []
    },
    {
      "cell_type": "code",
      "source": [
        "y_predict, real_y_test, real_y_predict, fig1 = test_model(model, x_test, y_test, unnormalized_bases)\n",
        "\n",
        "#Show the plot\n",
        "plt.show(fig1)\n",
        "\n"
      ],
      "metadata": {
        "id": "MWym2PC82aSO"
      },
      "execution_count": null,
      "outputs": []
    }
  ],
  "metadata": {
    "colab": {
      "name": "Welcome To Colaboratory",
      "provenance": [],
      "include_colab_link": true
    },
    "kernelspec": {
      "display_name": "Python 3",
      "name": "python3"
    }
  },
  "nbformat": 4,
  "nbformat_minor": 0
}