{
 "cells": [
  {
   "cell_type": "markdown",
   "id": "3f6fbeb0-d8b9-4bfc-b610-0085b7a30ca1",
   "metadata": {},
   "source": [
    "Natural logarithms "
   ]
  },
  {
   "cell_type": "code",
   "execution_count": 1,
   "id": "e0edc9cd-a20a-47cc-b6d5-dd0a4f411730",
   "metadata": {},
   "outputs": [],
   "source": [
    "from math import log"
   ]
  },
  {
   "cell_type": "code",
   "execution_count": 2,
   "id": "fbb31bac-33a0-4bd5-91b3-11a0d9890e83",
   "metadata": {},
   "outputs": [
    {
     "name": "stdout",
     "output_type": "stream",
     "text": [
      "2.302585092994046\n"
     ]
    }
   ],
   "source": [
    "x = log(10)\n",
    "print(x)"
   ]
  }
 ],
 "metadata": {
  "kernelspec": {
   "display_name": "Python 3 (ipykernel)",
   "language": "python",
   "name": "python3"
  },
  "language_info": {
   "codemirror_mode": {
    "name": "ipython",
    "version": 3
   },
   "file_extension": ".py",
   "mimetype": "text/x-python",
   "name": "python",
   "nbconvert_exporter": "python",
   "pygments_lexer": "ipython3",
   "version": "3.10.7"
  }
 },
 "nbformat": 4,
 "nbformat_minor": 5
}
