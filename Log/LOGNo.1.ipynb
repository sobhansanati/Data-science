{
 "cells": [
  {
   "cell_type": "markdown",
   "id": "55f0b8ce-d432-4603-aae8-fcfaea0b0a32",
   "metadata": {},
   "source": [
    "# Importing requier modules :"
   ]
  },
  {
   "cell_type": "code",
   "execution_count": 1,
   "id": "19d5b943-01fb-4696-a086-694dd63f02bd",
   "metadata": {},
   "outputs": [],
   "source": [
    "from math import log "
   ]
  },
  {
   "cell_type": "code",
   "execution_count": 2,
   "id": "4f2b1569-685d-4afe-8c71-fd649b48698b",
   "metadata": {},
   "outputs": [
    {
     "name": "stdout",
     "output_type": "stream",
     "text": [
      "3.0\n"
     ]
    }
   ],
   "source": [
    "x = log(8,2)\n",
    "print(x)"
   ]
  },
  {
   "cell_type": "code",
   "execution_count": 3,
   "id": "5612917b-98fb-4051-98d8-047837082103",
   "metadata": {},
   "outputs": [],
   "source": [
    "x = 2\n",
    "a = 8"
   ]
  },
  {
   "cell_type": "code",
   "execution_count": 4,
   "id": "42f06f2b-3a6b-4898-86be-007d4b4d80a5",
   "metadata": {},
   "outputs": [
    {
     "name": "stdout",
     "output_type": "stream",
     "text": [
      "2.2314636102541633e+20\n"
     ]
    }
   ],
   "source": [
    "b = a ** x \n",
    "x = log(a)** b\n",
    "print(x)"
   ]
  }
 ],
 "metadata": {
  "kernelspec": {
   "display_name": "Python 3 (ipykernel)",
   "language": "python",
   "name": "python3"
  },
  "language_info": {
   "codemirror_mode": {
    "name": "ipython",
    "version": 3
   },
   "file_extension": ".py",
   "mimetype": "text/x-python",
   "name": "python",
   "nbconvert_exporter": "python",
   "pygments_lexer": "ipython3",
   "version": "3.10.7"
  }
 },
 "nbformat": 4,
 "nbformat_minor": 5
}
