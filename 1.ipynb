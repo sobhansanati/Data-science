{
 "cells": [
  {
   "cell_type": "code",
   "execution_count": 1,
   "id": "e72de8d4-129f-4ca1-b88c-cf57d75f9e71",
   "metadata": {},
   "outputs": [],
   "source": [
    "import pandas as pd"
   ]
  },
  {
   "cell_type": "code",
   "execution_count": 2,
   "id": "58796b62-d276-44c8-8dcd-44650f74359d",
   "metadata": {},
   "outputs": [
    {
     "data": {
      "text/html": [
       "<div>\n",
       "<style scoped>\n",
       "    .dataframe tbody tr th:only-of-type {\n",
       "        vertical-align: middle;\n",
       "    }\n",
       "\n",
       "    .dataframe tbody tr th {\n",
       "        vertical-align: top;\n",
       "    }\n",
       "\n",
       "    .dataframe thead th {\n",
       "        text-align: right;\n",
       "    }\n",
       "</style>\n",
       "<table border=\"1\" class=\"dataframe\">\n",
       "  <thead>\n",
       "    <tr style=\"text-align: right;\">\n",
       "      <th></th>\n",
       "      <th>Date</th>\n",
       "      <th>Open</th>\n",
       "      <th>High</th>\n",
       "      <th>Low</th>\n",
       "      <th>Close</th>\n",
       "      <th>Adj Close</th>\n",
       "      <th>Volume</th>\n",
       "    </tr>\n",
       "  </thead>\n",
       "  <tbody>\n",
       "    <tr>\n",
       "      <th>0</th>\n",
       "      <td>10/02/22</td>\n",
       "      <td>19311.84961</td>\n",
       "      <td>19370.30859</td>\n",
       "      <td>18970.62109</td>\n",
       "      <td>19044.10742</td>\n",
       "      <td>19044.10742</td>\n",
       "      <td>2.076596e+10</td>\n",
       "    </tr>\n",
       "    <tr>\n",
       "      <th>1</th>\n",
       "      <td>10/03/22</td>\n",
       "      <td>19044.06836</td>\n",
       "      <td>19653.54297</td>\n",
       "      <td>19025.22656</td>\n",
       "      <td>19623.58008</td>\n",
       "      <td>19623.58008</td>\n",
       "      <td>3.048473e+10</td>\n",
       "    </tr>\n",
       "    <tr>\n",
       "      <th>2</th>\n",
       "      <td>10/04/22</td>\n",
       "      <td>19623.58398</td>\n",
       "      <td>20380.34375</td>\n",
       "      <td>19523.83984</td>\n",
       "      <td>20336.84375</td>\n",
       "      <td>20336.84375</td>\n",
       "      <td>3.588728e+10</td>\n",
       "    </tr>\n",
       "    <tr>\n",
       "      <th>3</th>\n",
       "      <td>10/05/22</td>\n",
       "      <td>20335.90039</td>\n",
       "      <td>20343.74805</td>\n",
       "      <td>19801.80078</td>\n",
       "      <td>20160.71680</td>\n",
       "      <td>20160.71680</td>\n",
       "      <td>3.322379e+10</td>\n",
       "    </tr>\n",
       "    <tr>\n",
       "      <th>4</th>\n",
       "      <td>10/06/22</td>\n",
       "      <td>20161.03906</td>\n",
       "      <td>20408.39258</td>\n",
       "      <td>19900.08789</td>\n",
       "      <td>19955.44336</td>\n",
       "      <td>19955.44336</td>\n",
       "      <td>3.471141e+10</td>\n",
       "    </tr>\n",
       "  </tbody>\n",
       "</table>\n",
       "</div>"
      ],
      "text/plain": [
       "       Date         Open         High          Low        Close    Adj Close  \\\n",
       "0  10/02/22  19311.84961  19370.30859  18970.62109  19044.10742  19044.10742   \n",
       "1  10/03/22  19044.06836  19653.54297  19025.22656  19623.58008  19623.58008   \n",
       "2  10/04/22  19623.58398  20380.34375  19523.83984  20336.84375  20336.84375   \n",
       "3  10/05/22  20335.90039  20343.74805  19801.80078  20160.71680  20160.71680   \n",
       "4  10/06/22  20161.03906  20408.39258  19900.08789  19955.44336  19955.44336   \n",
       "\n",
       "         Volume  \n",
       "0  2.076596e+10  \n",
       "1  3.048473e+10  \n",
       "2  3.588728e+10  \n",
       "3  3.322379e+10  \n",
       "4  3.471141e+10  "
      ]
     },
     "execution_count": 2,
     "metadata": {},
     "output_type": "execute_result"
    }
   ],
   "source": [
    "data = pd.read_csv('BTC-USD.csv')\n",
    "data.head()"
   ]
  },
  {
   "cell_type": "code",
   "execution_count": 3,
   "id": "2ecf9e33-4571-4f1f-8e4a-3c81d1b6f38f",
   "metadata": {},
   "outputs": [
    {
     "data": {
      "text/plain": [
       "dtype('O')"
      ]
     },
     "execution_count": 3,
     "metadata": {},
     "output_type": "execute_result"
    }
   ],
   "source": [
    "data_date = data['Date']\n",
    "data_date=data_date.astype(str)\n",
    "data_date.dtype"
   ]
  },
  {
   "cell_type": "code",
   "execution_count": 4,
   "id": "81971ed0-d050-44a1-9d4c-2afecc7abf16",
   "metadata": {},
   "outputs": [],
   "source": [
    "data['Date'] = data['Date'].str.replace('/', '')\n",
    "data['Date'] = data['Date'].str.replace('/', '')\n",
    "data['Date'] = data['Date'].astype(str)"
   ]
  },
  {
   "cell_type": "code",
   "execution_count": 5,
   "id": "2165eb63-2967-4476-9f93-ad71f0bbac58",
   "metadata": {},
   "outputs": [
    {
     "data": {
      "text/plain": [
       "0    100222\n",
       "1    100322\n",
       "2    100422\n",
       "3    100522\n",
       "4    100622\n",
       "Name: Date, dtype: object"
      ]
     },
     "execution_count": 5,
     "metadata": {},
     "output_type": "execute_result"
    }
   ],
   "source": [
    "data['Date'].head()"
   ]
  },
  {
   "cell_type": "code",
   "execution_count": 6,
   "id": "19558089-ff6b-424b-98c1-3cd769943c19",
   "metadata": {},
   "outputs": [],
   "source": [
    "data['Date'] = data['Date'].astype(str)"
   ]
  },
  {
   "cell_type": "code",
   "execution_count": 7,
   "id": "1d60fb6b-1817-4142-ae8b-3b0cb9028f3d",
   "metadata": {},
   "outputs": [],
   "source": [
    "data['Date'] = data['Date'].astype(float)"
   ]
  },
  {
   "cell_type": "code",
   "execution_count": 8,
   "id": "84e50886-1a8e-4308-be1d-dd8607ada254",
   "metadata": {},
   "outputs": [
    {
     "data": {
      "text/plain": [
       "dtype('float64')"
      ]
     },
     "execution_count": 8,
     "metadata": {},
     "output_type": "execute_result"
    }
   ],
   "source": [
    "data['Date'].dtype"
   ]
  },
  {
   "cell_type": "code",
   "execution_count": 10,
   "id": "bf3f818a-447a-4fde-901b-2995c12e648f",
   "metadata": {},
   "outputs": [],
   "source": [
    "data.to_csv('BTC-USD1.csv')"
   ]
  }
 ],
 "metadata": {
  "kernelspec": {
   "display_name": "Python 3 (ipykernel)",
   "language": "python",
   "name": "python3"
  },
  "language_info": {
   "codemirror_mode": {
    "name": "ipython",
    "version": 3
   },
   "file_extension": ".py",
   "mimetype": "text/x-python",
   "name": "python",
   "nbconvert_exporter": "python",
   "pygments_lexer": "ipython3",
   "version": "3.11.5"
  }
 },
 "nbformat": 4,
 "nbformat_minor": 5
}
