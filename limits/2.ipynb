{
 "cells": [
  {
   "cell_type": "code",
   "execution_count": 1,
   "id": "1383173d-ba3f-4dc2-9453-1589d9ffc085",
   "metadata": {},
   "outputs": [],
   "source": [
    "from sympy import *"
   ]
  },
  {
   "cell_type": "code",
   "execution_count": 2,
   "id": "0d38912b-a2d9-4046-9dc0-68e5bf1d0dfb",
   "metadata": {},
   "outputs": [],
   "source": [
    "n = symbols('n')\n",
    "f = (1 + (1/n))**n \n",
    "result = limit(f,n,0)"
   ]
  },
  {
   "cell_type": "code",
   "execution_count": 3,
   "id": "f76e9ef5-23b0-4051-8fe5-8b13c3e5a4cc",
   "metadata": {},
   "outputs": [
    {
     "name": "stdout",
     "output_type": "stream",
     "text": [
      "1\n"
     ]
    }
   ],
   "source": [
    "print(result)"
   ]
  },
  {
   "cell_type": "code",
   "execution_count": 4,
   "id": "1b52ca2e-e7d2-450c-9781-c780aaa29984",
   "metadata": {},
   "outputs": [
    {
     "name": "stdout",
     "output_type": "stream",
     "text": [
      "1.00000000000000\n"
     ]
    }
   ],
   "source": [
    "print(result.evalf())"
   ]
  }
 ],
 "metadata": {
  "kernelspec": {
   "display_name": "Python 3 (ipykernel)",
   "language": "python",
   "name": "python3"
  },
  "language_info": {
   "codemirror_mode": {
    "name": "ipython",
    "version": 3
   },
   "file_extension": ".py",
   "mimetype": "text/x-python",
   "name": "python",
   "nbconvert_exporter": "python",
   "pygments_lexer": "ipython3",
   "version": "3.10.7"
  }
 },
 "nbformat": 4,
 "nbformat_minor": 5
}
