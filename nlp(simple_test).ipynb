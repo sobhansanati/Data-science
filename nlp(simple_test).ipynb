{
  "nbformat": 4,
  "nbformat_minor": 0,
  "metadata": {
    "colab": {
      "provenance": [],
      "authorship_tag": "ABX9TyMXk2USoXN5sbYWz93SekKa",
      "include_colab_link": true
    },
    "kernelspec": {
      "name": "python3",
      "display_name": "Python 3"
    },
    "language_info": {
      "name": "python"
    }
  },
  "cells": [
    {
      "cell_type": "markdown",
      "metadata": {
        "id": "view-in-github",
        "colab_type": "text"
      },
      "source": [
        "<a href=\"https://colab.research.google.com/github/sobhansanati/Data-science/blob/main/nlp(simple_test).ipynb\" target=\"_parent\"><img src=\"https://colab.research.google.com/assets/colab-badge.svg\" alt=\"Open In Colab\"/></a>"
      ]
    },
    {
      "cell_type": "markdown",
      "source": [
        "# simple example of nlp"
      ],
      "metadata": {
        "id": "0RT1_962vkjR"
      }
    },
    {
      "cell_type": "code",
      "source": [
        "from tensorflow.keras.preprocessing.text import Tokenizer\n",
        "from tensorflow.keras.preprocessing.sequence import pad_sequences"
      ],
      "metadata": {
        "id": "6sj9WQbpvxiB"
      },
      "execution_count": 10,
      "outputs": []
    },
    {
      "cell_type": "code",
      "source": [
        "sentences = [\n",
        "    \"this is the simple test\",\n",
        "    \"philosophy is the answere for the unaswerable question \",\n",
        "    \"there is no beautiful surfaces without terrible depth \",\n",
        "]"
      ],
      "metadata": {
        "id": "6tNu7sUrv0_J"
      },
      "execution_count": 11,
      "outputs": []
    },
    {
      "cell_type": "code",
      "source": [
        "Mvs = 20000 #max vocab size\n",
        "tokenizer = Tokenizer(num_words = Mvs, oov_token='Unknown')\n",
        "tokenizer.fit_on_texts(sentences)\n",
        "sequence = tokenizer.texts_to_sequences(sentences)"
      ],
      "metadata": {
        "id": "zDToMzw68K0n"
      },
      "execution_count": 12,
      "outputs": []
    },
    {
      "cell_type": "code",
      "source": [
        "tokenizer.texts_to_sequences([\"i like curiosity\"])"
      ],
      "metadata": {
        "colab": {
          "base_uri": "https://localhost:8080/"
        },
        "id": "aWpRlCbW8kcn",
        "outputId": "72908d9c-a495-4031-f922-7f31dd176cad"
      },
      "execution_count": 13,
      "outputs": [
        {
          "output_type": "execute_result",
          "data": {
            "text/plain": [
              "[[1, 1, 1]]"
            ]
          },
          "metadata": {},
          "execution_count": 13
        }
      ]
    },
    {
      "cell_type": "code",
      "source": [
        "tokenizer.word_index"
      ],
      "metadata": {
        "colab": {
          "base_uri": "https://localhost:8080/"
        },
        "id": "RKk4N7K88x5S",
        "outputId": "30568f40-95f3-409b-df14-75a1e1c1bdc1"
      },
      "execution_count": 14,
      "outputs": [
        {
          "output_type": "execute_result",
          "data": {
            "text/plain": [
              "{'Unknown': 1,\n",
              " 'is': 2,\n",
              " 'the': 3,\n",
              " 'this': 4,\n",
              " 'simple': 5,\n",
              " 'test': 6,\n",
              " 'philosophy': 7,\n",
              " 'answere': 8,\n",
              " 'for': 9,\n",
              " 'unaswerable': 10,\n",
              " 'question': 11,\n",
              " 'there': 12,\n",
              " 'no': 13,\n",
              " 'beautiful': 14,\n",
              " 'surfaces': 15,\n",
              " 'without': 16,\n",
              " 'terrible': 17,\n",
              " 'depth': 18}"
            ]
          },
          "metadata": {},
          "execution_count": 14
        }
      ]
    },
    {
      "cell_type": "code",
      "source": [
        "data = pad_sequences(sequence)\n",
        "print(data)\n",
        "print(data.shape)"
      ],
      "metadata": {
        "colab": {
          "base_uri": "https://localhost:8080/"
        },
        "id": "_EAfHlYS86Gk",
        "outputId": "842e89b8-98aa-4010-d526-08d4fb41c422"
      },
      "execution_count": 15,
      "outputs": [
        {
          "output_type": "stream",
          "name": "stdout",
          "text": [
            "[[ 0  0  0  4  2  3  5  6]\n",
            " [ 7  2  3  8  9  3 10 11]\n",
            " [12  2 13 14 15 16 17 18]]\n",
            "(3, 8)\n"
          ]
        }
      ]
    },
    {
      "cell_type": "code",
      "source": [
        "Msl = 5\n",
        "data = pad_sequences(sequence, maxlen=Msl, padding=\"pre\", truncating=\"post\")\n",
        "print(data)"
      ],
      "metadata": {
        "colab": {
          "base_uri": "https://localhost:8080/"
        },
        "id": "0BvyQZNP-wwQ",
        "outputId": "cb092e1f-2c50-4d39-d6f2-6805eb713237"
      },
      "execution_count": 16,
      "outputs": [
        {
          "output_type": "stream",
          "name": "stdout",
          "text": [
            "[[ 4  2  3  5  6]\n",
            " [ 7  2  3  8  9]\n",
            " [12  2 13 14 15]]\n"
          ]
        }
      ]
    }
  ]
}