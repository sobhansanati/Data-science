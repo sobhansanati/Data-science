{
 "cells": [
  {
   "cell_type": "markdown",
   "id": "d28ca8d4-d709-4f3f-b73e-a03e9c17c7f8",
   "metadata": {},
   "source": [
    "# import requier modules"
   ]
  },
  {
   "cell_type": "code",
   "execution_count": 1,
   "id": "8e38c44d-06fc-414a-8192-3d3ce7a2bc5e",
   "metadata": {},
   "outputs": [],
   "source": [
    "from sympy import *"
   ]
  },
  {
   "cell_type": "code",
   "execution_count": 2,
   "id": "3d419b76-2b2c-4a15-aa6e-a6b484065ffc",
   "metadata": {},
   "outputs": [
    {
     "name": "stdout",
     "output_type": "stream",
     "text": [
      "x**(-3)\n"
     ]
    }
   ],
   "source": [
    "x = symbols('x')\n",
    "expr = x**2 / x**5\n",
    "print(expr)"
   ]
  },
  {
   "cell_type": "markdown",
   "id": "cc4cd748-b4f1-4a2c-93e8-14a207c79029",
   "metadata": {},
   "source": [
    "Fractional Exponents "
   ]
  },
  {
   "cell_type": "code",
   "execution_count": 3,
   "id": "a6cfdf06-fdca-4562-9a97-136408d8e25f",
   "metadata": {},
   "outputs": [
    {
     "name": "stdout",
     "output_type": "stream",
     "text": [
      "2.0\n"
     ]
    }
   ],
   "source": [
    "expr_1 = 4 ** 1/2 \n",
    "print(expr_1)"
   ]
  },
  {
   "cell_type": "code",
   "execution_count": 4,
   "id": "f2d9275f-d298-4272-aed7-e7538a97f2f9",
   "metadata": {},
   "outputs": [
    {
     "name": "stdout",
     "output_type": "stream",
     "text": [
      "2.6666666666666665\n"
     ]
    }
   ],
   "source": [
    "expr_2 = 8 ** 1/3\n",
    "print(expr_2)"
   ]
  },
  {
   "cell_type": "code",
   "execution_count": 5,
   "id": "52fc4b93-d02d-435a-8c8d-3ac9fca4a849",
   "metadata": {},
   "outputs": [
    {
     "name": "stdout",
     "output_type": "stream",
     "text": [
      "687.1589290131589\n"
     ]
    }
   ],
   "source": [
    "expr_3 = 8 ** 3.1415\n",
    "print(expr_3)"
   ]
  }
 ],
 "metadata": {
  "kernelspec": {
   "display_name": "Python 3 (ipykernel)",
   "language": "python",
   "name": "python3"
  },
  "language_info": {
   "codemirror_mode": {
    "name": "ipython",
    "version": 3
   },
   "file_extension": ".py",
   "mimetype": "text/x-python",
   "name": "python",
   "nbconvert_exporter": "python",
   "pygments_lexer": "ipython3",
   "version": "3.10.7"
  }
 },
 "nbformat": 4,
 "nbformat_minor": 5
}
